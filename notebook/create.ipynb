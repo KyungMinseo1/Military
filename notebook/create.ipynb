{
 "cells": [
  {
   "cell_type": "code",
   "execution_count": null,
   "id": "3fad54ae",
   "metadata": {},
   "outputs": [],
   "source": [
    "# 학생정보\n",
    "# {학번 : [이름, 나이, 성별(남:0, 여:1), 교환학생여부(해당:0, 해당X:1), 휴학여부(해당:0, 해당X:1), 훈련가능여부(가능X:0, 가능:1) 재학 학기]}"
   ]
  },
  {
   "cell_type": "code",
   "execution_count": null,
   "id": "6814e367",
   "metadata": {},
   "outputs": [],
   "source": [
    "# 군정보\n",
    "# {군번 : [군종, 계급, 부대, 보직, 전역일 데이터]}"
   ]
  },
  {
   "cell_type": "code",
   "execution_count": null,
   "id": "082e251c",
   "metadata": {},
   "outputs": [],
   "source": [
    "# 예비군 정보\n",
    "# [학번, 군번, 훈련대상여부(예비군X : 0, 예비군 : 1), 예비군복무연차(전역일 데이터 사용), 예비군 훈련 횟수, 훈련 연기 가능 횟수, 조기 퇴소 횟수]"
   ]
  },
  {
   "cell_type": "code",
   "execution_count": 26,
   "id": "a61a8b26",
   "metadata": {},
   "outputs": [],
   "source": [
    "from datetime import datetime\n",
    "\n",
    "class Reserve:\n",
    "    def __init__(self, s_list: dict):\n",
    "        '''\n",
    "        학번과 군번이 서로 매핑된 데이터를 가지고 있다고 가정 (이를 통해 학생정보와 군정보를 연계)  \n",
    "        '''\n",
    "        self.data = []\n",
    "        self.s_list = s_list  # {학번 : 군번}\n",
    "\n",
    "    def is_available(self, x, y, z) -> int:\n",
    "        '''\n",
    "        군복무 가능여부를 판단하기 위한 함수  \n",
    "        '''\n",
    "        return x*y*z\n",
    "\n",
    "    def create(self, student_data: dict, military_data: dict) -> None:\n",
    "        '''\n",
    "        학생정보와 군정보를 받아 예비군 데이터를 생성하는 함수\\n \n",
    "        학생정보와 군정보는 여러 학생 정보가 담긴 딕셔너리 형태  \n",
    "        '''\n",
    "        for s_num, s_data in student_data.items():\n",
    "\n",
    "            temp_data = []                          # 정보저장을 위한 임시 리스트\n",
    "\n",
    "            if s_num in self.s_list.keys():         # 학번을 통해 군번 연결 (학번에 해당하는 군번이 존재하지 않을 경우 건너뛰기)\n",
    "                m_num = self.s_list[s_num]\n",
    "                temp_data.append(s_num)             # 임시 데이터에 학번 추가\n",
    "                temp_data.append(m_num)             # 임시 데이터에 군번 추가\n",
    "            else:\n",
    "                continue\n",
    "\n",
    "            is_available = self.is_available(s_data[3], s_data[4], s_data[5])   # 예비군 훈련 가능여부 판단\n",
    "            temp_data.append(is_available)          # 예비군 훈련 가능여부 추가\n",
    "\n",
    "            m_data = military_data[m_num]           # 연결된 군번에 해당하는 데이터 추출\n",
    "            out_date = m_data[4]                    # 전역일 데이터 추출\n",
    "            out_year = int(out_date.split('-')[0])  # 전역년도 추출\n",
    "            current_year = datetime.today().year    # 현재년도 추출\n",
    "            reserve_year = current_year - out_year  # 예비군 복무연차 계산 (현재년도 - 전역년도)\n",
    "            temp_data.append(reserve_year)          # 예비군 복무연차 추가\n",
    "\n",
    "            temp_data.append(0)                     # 예비군 훈련 횟수(처음 생성 시 0으로 초기화)\n",
    "            temp_data.append(6)                     # 훈련 연기 가능 횟수(처음 생성 시 6으로 초기화)\n",
    "            temp_data.append(0)                     # 조기 퇴소 횟수(처음 생성 시 0으로 초기화)\n",
    "\n",
    "            self.data.append(temp_data)             # 임시 데이터를 최종 데이터에 추가\n",
    "\n",
    "    def retrieve(self, is_filter = False) -> list:\n",
    "        '''\n",
    "        데이터를 검색하기 위한 함수\\n\n",
    "        is_filter가 True이면 이번학기에 예비군 훈련이 가능한 학생 필터링\\n\n",
    "        is_filter가 False이면 학번으로 특정 학생의 예비군 정보 검색  \n",
    "        '''\n",
    "        found_data = []\n",
    "        if is_filter:                               # 필터링 적용\n",
    "            for data in self.data:\n",
    "                if data[2] == 1:\n",
    "                    found_data.append(data)\n",
    "        else:                                       # 특정 학생 검색\n",
    "            s_num = str(input(\"검색하고자 하는 학생의 학번을 입력해주세요: \"))\n",
    "            for data in self.data:\n",
    "                if data[0] == s_num:\n",
    "                    found_data.append(data)\n",
    "                    break\n",
    "        return found_data"
   ]
  },
  {
   "cell_type": "code",
   "execution_count": 27,
   "id": "ff68707c",
   "metadata": {},
   "outputs": [],
   "source": [
    "student_data = {\n",
    "    '2021549578' : ['홍길동', 20, 0, 1, 1, 1, 5]\n",
    "}\n",
    "\n",
    "military_data = {\n",
    "    '21-78895127'  : ['육군', '병장', '25사단', '영상감시병', '2023-03-18']\n",
    "}\n",
    "\n",
    "s_list = {\n",
    "    '2021549578' : '21-78895127'\n",
    "}\n",
    "\n",
    "def main():\n",
    "    reserve = Reserve(s_list)\n",
    "    reserve.create(student_data, military_data)\n",
    "    while True:\n",
    "        command = int(input('원하시는 작업을 선택해주세요\\n0. 검색\\n1. 업데이트\\n2. 삭제\\n3. 출력\\n4 - 종료'))\n",
    "        if command == 0:\n",
    "            sub_command = int(input('0과 1 중 선택해주세요\\n0. 학생 정보 검색\\n1. 단순 필터링'))\n",
    "            is_filter = False if sub_command == 0 else True\n",
    "            result = reserve.retrieve(is_filter)\n",
    "            if result == []:\n",
    "                print(\"검색결과가 없습니다!\")\n",
    "            else:\n",
    "                print(result)\n",
    "        elif command == 4:\n",
    "            break"
   ]
  },
  {
   "cell_type": "code",
   "execution_count": 28,
   "id": "736a6c96",
   "metadata": {},
   "outputs": [
    {
     "name": "stdout",
     "output_type": "stream",
     "text": [
      "검색결과가 없습니다!\n",
      "검색결과가 없습니다!\n",
      "[['2021549578', '21-78895127', 1, 2, 0, 6, 0]]\n",
      "[['2021549578', '21-78895127', 1, 2, 0, 6, 0]]\n"
     ]
    }
   ],
   "source": [
    "main()"
   ]
  },
  {
   "cell_type": "code",
   "execution_count": 3,
   "id": "383dbb31",
   "metadata": {},
   "outputs": [],
   "source": [
    "student_data = {\n",
    "    '2021549578' : ['홍길동', 20, 0, 1, 1, 1, 5]\n",
    "}\n",
    "\n",
    "import pickle\n",
    "\n",
    "with open('student_data.pickle', 'wb') as fw:\n",
    "    pickle.dump(student_data, fw)"
   ]
  },
  {
   "cell_type": "code",
   "execution_count": 4,
   "id": "93747e7d",
   "metadata": {},
   "outputs": [],
   "source": [
    "military_data = {\n",
    "    '21-78895127'  : ['육군', '병장', '25사단', '영상감시병', '2023-03-18']\n",
    "}\n",
    "\n",
    "s_list = {\n",
    "    '2021549578' : '21-78895127'\n",
    "}\n",
    "\n",
    "with open('military_data.pickle', 'wb') as fw:\n",
    "    pickle.dump(military_data, fw)\n",
    "\n",
    "with open('s_list.pickle', 'wb') as fw:\n",
    "    pickle.dump(s_list, fw)"
   ]
  }
 ],
 "metadata": {
  "kernelspec": {
   "display_name": "base",
   "language": "python",
   "name": "python3"
  },
  "language_info": {
   "codemirror_mode": {
    "name": "ipython",
    "version": 3
   },
   "file_extension": ".py",
   "mimetype": "text/x-python",
   "name": "python",
   "nbconvert_exporter": "python",
   "pygments_lexer": "ipython3",
   "version": "3.11.7"
  }
 },
 "nbformat": 4,
 "nbformat_minor": 5
}
