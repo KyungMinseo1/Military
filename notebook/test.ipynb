{
 "cells": [
  {
   "cell_type": "code",
   "execution_count": 53,
   "id": "9a97b30d",
   "metadata": {},
   "outputs": [],
   "source": [
    "from datetime import datetime\n",
    "from typing import Optional, Tuple, Any, List\n",
    "\n",
    "class Reserve:\n",
    "    def __init__(self, s_list: dict):\n",
    "        '''\n",
    "        학번과 군번이 서로 매핑된 데이터를 가지고 있다고 가정 (이를 통해 학생정보와 군정보를 연계)  \n",
    "        '''\n",
    "        self.data = []\n",
    "        self.s_list = s_list  # {학번 : 군번}\n",
    "\n",
    "    def is_available(self, x, y, z) -> int:\n",
    "        '''\n",
    "        군복무 가능여부를 판단하기 위한 함수  \n",
    "        '''\n",
    "        return x*y*z\n",
    "    \n",
    "    def binary_search(self, target, start, end, find_insert_pos=False) -> Optional[Tuple[int, Any]]:\n",
    "        '''\n",
    "        이진 탐색 메소드\n",
    "        '''\n",
    "        if end < start:\n",
    "            if find_insert_pos:\n",
    "                return (start, None)  # 삽입 위치 반환\n",
    "            return None\n",
    "        mid = (start + end)//2\n",
    "        mid_data = self.data[mid]\n",
    "        if mid_data[0] == target:       # 찾으려는 학번과 일치한다면\n",
    "            if find_insert_pos:\n",
    "                return None\n",
    "            return (mid, mid_data)      # 해당 데이터와 인덱스 번호 추출\n",
    "        elif mid_data[0] > target:\n",
    "            return self.binary_search(target, start, mid-1, find_insert_pos)\n",
    "        elif mid_data[0] < target:\n",
    "            return self.binary_search(target, mid+1, end, find_insert_pos)\n",
    "\n",
    "    def init_create(self, student_data: dict, military_data: dict) -> None:\n",
    "        '''\n",
    "        학생정보와 군정보를 받아 첫 예비군 데이터를 생성하는 함수\\n \n",
    "        학생정보와 군정보는 여러 학생 정보가 담긴 딕셔너리 형태  \n",
    "        '''\n",
    "        for s_num, s_data in student_data.items():\n",
    "\n",
    "            temp_data = []                          # 정보저장을 위한 임시 리스트\n",
    "\n",
    "            if s_data[2] == 1:                      # 학생이 여자이면 추가 X\n",
    "                continue\n",
    "\n",
    "            if s_num in self.s_list.keys():         # 학번을 통해 군번 연결 (학번에 해당하는 군번이 존재하지 않을 경우 건너뛰기)\n",
    "                m_num = self.s_list[s_num]\n",
    "                temp_data.append(s_num)             # 임시 데이터에 학번 추가\n",
    "                temp_data.append(m_num)             # 임시 데이터에 군번 추가\n",
    "                temp_data.append(s_data[0])             # 임시 데이터에 이름 추가\n",
    "            else:\n",
    "                continue\n",
    "\n",
    "            is_available = self.is_available(s_data[3], s_data[4], s_data[5])   # 예비군 훈련 가능여부 판단\n",
    "            temp_data.append(is_available)          # 예비군 훈련 가능여부 추가\n",
    "\n",
    "            m_data = military_data[m_num]           # 연결된 군번에 해당하는 데이터 추출\n",
    "            out_date = m_data[4]                    # 전역일 데이터 추출\n",
    "            out_year = int(out_date.split('-')[0])  # 전역년도 추출\n",
    "            current_year = datetime.today().year    # 현재년도 추출\n",
    "            reserve_year = current_year - out_year  # 예비군 복무연차 계산 (현재년도 - 전역년도)\n",
    "            temp_data.append(reserve_year)          # 예비군 복무연차 추가\n",
    "\n",
    "            temp_data.append(0)                     # 예비군 훈련 횟수(처음 생성 시 0으로 초기화)\n",
    "            temp_data.append(0)                     # 예비군 훈련 시간(처음 생성 시 0으로 초기화)\n",
    "            temp_data.append(6)                     # 훈련 연기 가능 횟수(처음 생성 시 6으로 초기화)\n",
    "            temp_data.append(0)                     # 조기 퇴소 횟수(처음 생성 시 0으로 초기화)\n",
    "\n",
    "            self.data.append(temp_data)             # 임시 데이터를 최종 데이터에 추가\n",
    "            self.data.sort(key = lambda x : x[0])   # 효율적인 검색/업데이트를 위한 정렬\n",
    "\n",
    "    def create(self, student_data: dict, military_data: dict) -> Optional[List]:\n",
    "        '''\n",
    "        학생정보와 군정보를 받아 새로운 예비군 데이터를 생성하는 함수\\n \n",
    "        학생정보와 군정보는 하나의 학생 정보가 담긴 딕셔너리 형태(개별 생성)  \n",
    "        '''\n",
    "        s_num, s_data = list(student_data.items())[0]\n",
    "        m_num, m_data = list(military_data.items())[0]\n",
    "\n",
    "        temp_data = []                          # 정보저장을 위한 임시 리스트\n",
    "\n",
    "        if s_data[2] == 1:                      # 학생이 여자이면 추가 X\n",
    "            return None\n",
    "\n",
    "        temp_data.append(s_num)                 # 임시 데이터에 학번 추가\n",
    "        temp_data.append(m_num)                 # 임시 데이터에 군번 추가\n",
    "        temp_data.append(s_data[0])             # 임시 데이터에 이름 추가\n",
    "\n",
    "        is_available = self.is_available(s_data[3], s_data[4], s_data[5])   # 예비군 훈련 가능여부 판단\n",
    "        temp_data.append(is_available)          # 예비군 훈련 가능여부 추가\n",
    "\n",
    "        out_date = m_data[4]                    # 전역일 데이터 추출\n",
    "        out_year = int(out_date.split('-')[0])  # 전역년도 추출\n",
    "        current_year = datetime.today().year    # 현재년도 추출\n",
    "        reserve_year = current_year - out_year  # 예비군 복무연차 계산 (현재년도 - 전역년도)\n",
    "        temp_data.append(reserve_year)          # 예비군 복무연차 추가\n",
    "\n",
    "        temp_data.append(0)                     # 예비군 훈련 횟수(처음 생성 시 0으로 초기화)\n",
    "        temp_data.append(0)                     # 예비군 훈련 시간(처음 생성 시 0으로 초기화)\n",
    "        temp_data.append(6)                     # 훈련 연기 가능 횟수(처음 생성 시 6으로 초기화)\n",
    "        temp_data.append(0)                     # 조기 퇴소 횟수(처음 생성 시 0으로 초기화)\n",
    "\n",
    "        result = self.binary_search(s_num, 0, len(self.data)-1, find_insert_pos=True)\n",
    "        if result:\n",
    "            insert_pos, _ = result\n",
    "        else:\n",
    "            insert_pos = len(self.data)\n",
    "            \n",
    "        self.data.insert(insert_pos, temp_data) # 임시 데이터를 최종 데이터에 추가(정렬 형식에 맞추어서 추가)\n",
    "       \n",
    "        return [temp_data]\n",
    "\n",
    "    def retrieve(self, value = None, is_filter = False) -> Optional[List]:\n",
    "        '''\n",
    "        데이터를 검색하기 위한 함수\\n\n",
    "        is_filter가 True이면 이번학기에 예비군 훈련이 가능한 학생 필터링\\n\n",
    "        is_filter가 False이면 학번으로 특정 학생의 예비군 정보 검색  \n",
    "        '''\n",
    "        found_data = []\n",
    "        if is_filter:                               # 필터링 적용\n",
    "            for data in self.data:\n",
    "                if data[3] == 1:\n",
    "                    found_data.append(data)\n",
    "        else:                                       # 특정 학생 검색\n",
    "            s_num = value\n",
    "            result = self.binary_search(s_num, 0, len(self.data)-1)\n",
    "            if result:\n",
    "                _, data = result\n",
    "            found_data.append(data)\n",
    "        return found_data\n",
    "    \n",
    "    def update_after_train(self, update_list: list) -> Optional[List]:\n",
    "        '''\n",
    "        예비군 수료 정보 업데이트 함수\\n\n",
    "        업데이트 대상이 되는 예비군 수료 정보는\\n\n",
    "        [학번, 예비군 훈련 여부, 훈련 시간, 훈련 연기 여부, 조기퇴소 여부] 라고 가정\\n\n",
    "        이진 탐색으로 학번에 해당하는 데이터를 찾은 뒤, 정보 업데이트\n",
    "        '''\n",
    "        return_data = []\n",
    "        for update_data in update_list:\n",
    "            result = self.binary_search(update_data[0], 0, len(self.data)-1)\n",
    "            if result:\n",
    "                idx, data = result\n",
    "            else:\n",
    "                continue\n",
    "            data[5] += update_data[1]               # 예비군 훈련 여부 업데이트\n",
    "            data[6] += update_data[2]               # 예비군 훈련 시간 업데이트\n",
    "            data[7] -= update_data[3]               # 예비군 훈련 연기 여부 업데이트\n",
    "            data[8] += update_data[4]               # 예비군 조기퇴소 여부 업데이트\n",
    "            self.data[idx] = data\n",
    "            return_data.append(data)\n",
    "        return return_data\n",
    "\n",
    "    def update_is_available(self, student_data : dict) -> Optional[List]:\n",
    "        '''\n",
    "        학생정보가 수정되었을 때, 업데이트 함수\\n\n",
    "        교환/유학 여부 수정 시 업데이트\\n\n",
    "        학생정보는 동일하게 dict 형식으로 받음\n",
    "        '''\n",
    "        return_data = []\n",
    "        for s_num, s_data in student_data.items():\n",
    "            is_available = self.is_available(s_data[3], s_data[4], s_data[5])\n",
    "            result = self.binary_search(s_num, 0, len(self.data)-1)\n",
    "            if result:\n",
    "                idx, data = result\n",
    "            data[3] = is_available\n",
    "            self.data[idx] = data\n",
    "            return_data.append(data)\n",
    "        return return_data\n",
    "    \n",
    "    def auto_delete(self, student_data: dict) -> list:\n",
    "        \"\"\"\n",
    "        조건에 따라 예비군 정보를 자동 삭제하는 함수\n",
    "\n",
    "        삭제 조건:\n",
    "        - 학생정보에 학번이 없음 (졸업/수료/자퇴)\n",
    "        - 학기가 9 이상 (추가학기)\n",
    "        - 예비군 연차가 5년 이상\n",
    "        \"\"\"\n",
    "        deleted = []\n",
    "\n",
    "        # 복사본으로 순회하면서 원본 리스트에서 삭제\n",
    "        for entry in self.data[:]:\n",
    "            student_id = entry[0]\n",
    "            reserve_year = entry[4]\n",
    "\n",
    "            # 조건 1: 학번이 student_data에 없음\n",
    "            if student_id not in student_data:\n",
    "                self.data.remove(entry)\n",
    "                deleted.append(entry)\n",
    "                continue\n",
    "\n",
    "            # 조건 2: 학기가 9 이상\n",
    "            semester = student_data[student_id][6]  \n",
    "            if semester >= 9:\n",
    "                self.data.remove(entry)\n",
    "                deleted.append(entry)\n",
    "                continue\n",
    "\n",
    "            # 조건 3: 예비군 연차가 5 이상\n",
    "            if reserve_year >= 5:\n",
    "                self.data.remove(entry)\n",
    "                deleted.append(entry)\n",
    "                continue\n",
    "\n",
    "        print(f\"[자동삭제 완료] 삭제된 예비군 데이터 {len(deleted)}건\")\n",
    "        return deleted\n",
    "\n",
    "    def manual_delete(self, student_ids: list) -> list:\n",
    "        \"\"\"\n",
    "        사용자가 직접 지정한 학번 목록에 대해 예비군 데이터를 수동 삭제하는 함수\n",
    "        \"\"\"\n",
    "        deleted = []\n",
    "\n",
    "        for s_num in student_ids:\n",
    "            result = self.binary_search(s_num, 0, len(self.data) - 1)\n",
    "            if result:\n",
    "                idx, data = result\n",
    "                del self.data[idx]\n",
    "                deleted.append(data)\n",
    "                print(f\"[-] 학번 {s_num} 예비군 정보 삭제 완료.\")\n",
    "            else:\n",
    "                print(f\"[!] 학번 {s_num} 예비군 정보를 찾을 수 없습니다.\")\n",
    "\n",
    "        return deleted\n",
    "\n"
   ]
  },
  {
   "cell_type": "code",
   "execution_count": 54,
   "id": "26151b2a",
   "metadata": {},
   "outputs": [],
   "source": [
    "import pickle\n",
    "with open('../data/student_data.pickle', 'rb') as fr:\n",
    "    student_data = pickle.load(fr)\n",
    "with open('../data/military_data.pickle', 'rb') as fr:\n",
    "    military_data = pickle.load(fr)\n",
    "with open('../data/s_list.pickle', 'rb') as fr:\n",
    "    s_list = pickle.load(fr)"
   ]
  },
  {
   "cell_type": "code",
   "execution_count": 55,
   "id": "086d262c",
   "metadata": {},
   "outputs": [
    {
     "data": {
      "text/plain": [
       "{'2021549578': ['홍길동', 20, 0, 0, 1, 1, 5],\n",
       " '2019042697': ['김현우', 26, 0, 1, 1, 1, 4],\n",
       " '2022460122': ['강민준', 24, 0, 1, 1, 0, 7],\n",
       " '2021188984': ['장도윤', 23, 0, 1, 1, 1, 6],\n",
       " '2018448337': ['김현우', 23, 0, 1, 1, 1, 7],\n",
       " '2020454347': ['정민준', 25, 0, 1, 1, 1, 2],\n",
       " '2022327139': ['이지훈', 23, 0, 1, 1, 1, 7],\n",
       " '2021291417': ['김현우', 24, 0, 1, 1, 1, 2],\n",
       " '2020369549': ['윤도윤', 23, 0, 1, 1, 1, 2],\n",
       " '2021410468': ['정도윤', 23, 0, 1, 1, 1, 3],\n",
       " '2021797494': ['윤민준', 25, 0, 1, 1, 1, 5],\n",
       " '2019747283': ['강도윤', 23, 0, 1, 1, 1, 2],\n",
       " '2021712537': ['임지후', 24, 0, 1, 1, 1, 2],\n",
       " '2020681376': ['강하준', 24, 0, 1, 1, 1, 5],\n",
       " '2021914660': ['정현우', 25, 0, 1, 1, 1, 7],\n",
       " '2021906093': ['정주원', 24, 0, 0, 1, 1, 6],\n",
       " '2018599495': ['조건우', 24, 0, 1, 1, 1, 4],\n",
       " '2020225223': ['윤지훈', 23, 0, 1, 1, 1, 5],\n",
       " '2019364234': ['정현우', 25, 0, 1, 0, 1, 5],\n",
       " '2018440170': ['강하준', 23, 0, 1, 1, 0, 5],\n",
       " '2018695099': ['조현우', 23, 0, 1, 1, 1, 7],\n",
       " '2021588001': ['강민준', 24, 0, 1, 1, 1, 7],\n",
       " '2021985653': ['임현우', 24, 0, 1, 1, 1, 6],\n",
       " '2019797367': ['조하준', 24, 0, 1, 1, 1, 7],\n",
       " '2018265293': ['강현우', 23, 0, 1, 1, 0, 3],\n",
       " '2022981864': ['강준서', 25, 0, 1, 1, 1, 4],\n",
       " '2022044875': ['김민준', 24, 0, 0, 1, 1, 6],\n",
       " '2018359131': ['강현우', 25, 0, 1, 1, 1, 6],\n",
       " '2019708693': ['최준서', 26, 0, 1, 0, 0, 6],\n",
       " '2018923873': ['최민준', 25, 0, 1, 1, 1, 5],\n",
       " '2021067804': ['최건우', 23, 0, 1, 1, 1, 4],\n",
       " '2019236762': ['임현우', 24, 0, 1, 1, 1, 2],\n",
       " '2022064717': ['최서준', 25, 0, 1, 1, 1, 5],\n",
       " '2020974035': ['조준서', 24, 0, 1, 1, 1, 7],\n",
       " '2018879496': ['정하준', 28, 0, 1, 1, 1, 5],\n",
       " '2018438911': ['임지후', 25, 0, 0, 1, 1, 7],\n",
       " '2018574745': ['이지후', 24, 0, 1, 1, 1, 3],\n",
       " '2019734155': ['최주원', 24, 0, 0, 1, 1, 3],\n",
       " '2020171469': ['이지훈', 26, 0, 1, 1, 1, 6],\n",
       " '2022451668': ['김지훈', 23, 0, 1, 1, 1, 3],\n",
       " '2020943051': ['장준서', 24, 0, 1, 1, 1, 2],\n",
       " '2022678053': ['박건우', 24, 0, 1, 1, 1, 4],\n",
       " '2019207640': ['김지후', 27, 0, 1, 1, 1, 3],\n",
       " '2018500305': ['장지훈', 25, 0, 1, 1, 1, 6],\n",
       " '2021850363': ['임지훈', 23, 0, 0, 1, 1, 6],\n",
       " '2018328678': ['박서준', 24, 0, 1, 1, 1, 7],\n",
       " '2018890036': ['장하준', 25, 0, 1, 1, 1, 5],\n",
       " '2022370607': ['최지후', 24, 0, 1, 1, 1, 2],\n",
       " '2020563810': ['윤도윤', 23, 0, 1, 1, 1, 6],\n",
       " '2020161966': ['최하준', 23, 0, 1, 0, 1, 5],\n",
       " '2021736248': ['강지훈', 24, 0, 1, 1, 1, 4],\n",
       " '2021435718': ['박준서', 25, 0, 1, 1, 1, 4],\n",
       " '2022466533': ['조지훈', 26, 0, 1, 1, 1, 5],\n",
       " '2020975690': ['김도윤', 23, 0, 1, 1, 0, 6],\n",
       " '2018776863': ['강건우', 23, 0, 1, 0, 1, 3],\n",
       " '2020640650': ['이민준', 28, 0, 1, 1, 0, 4],\n",
       " '2022331903': ['임주원', 23, 0, 1, 1, 1, 7],\n",
       " '2018035679': ['김도윤', 26, 0, 1, 1, 1, 6],\n",
       " '2021105356': ['박주원', 25, 0, 0, 1, 1, 3],\n",
       " '2019463984': ['강지훈', 25, 0, 1, 1, 1, 5],\n",
       " '2020027698': ['강지훈', 24, 0, 1, 1, 1, 5],\n",
       " '2021262840': ['강도윤', 25, 0, 1, 1, 1, 2],\n",
       " '2019091085': ['장민준', 24, 0, 0, 1, 1, 3],\n",
       " '2022481096': ['정건우', 24, 0, 1, 1, 1, 4],\n",
       " '2020376015': ['이지훈', 24, 0, 1, 1, 1, 7],\n",
       " '2022986476': ['정주원', 28, 0, 1, 1, 1, 2],\n",
       " '2018595286': ['강건우', 24, 0, 1, 1, 1, 3],\n",
       " '2021156490': ['김주원', 24, 0, 1, 1, 0, 6],\n",
       " '2020538225': ['김도윤', 24, 0, 1, 1, 1, 3],\n",
       " '2022319961': ['임민준', 23, 0, 1, 1, 1, 3],\n",
       " '2021133193': ['정지훈', 24, 0, 1, 1, 1, 5],\n",
       " '2019905944': ['김준서', 24, 0, 1, 1, 1, 7],\n",
       " '2018710124': ['김민준', 23, 0, 1, 1, 0, 7],\n",
       " '2018989905': ['이현우', 23, 0, 1, 1, 1, 7],\n",
       " '2021997561': ['장건우', 24, 0, 1, 1, 1, 6],\n",
       " '2019142483': ['윤지훈', 23, 0, 1, 1, 1, 5],\n",
       " '2020795138': ['윤서준', 23, 0, 1, 1, 1, 3],\n",
       " '2019190519': ['임주원', 23, 0, 1, 1, 1, 6],\n",
       " '2019151915': ['박도윤', 23, 0, 1, 1, 1, 4],\n",
       " '2019150602': ['박하준', 24, 0, 1, 1, 1, 6],\n",
       " '2020426101': ['윤도윤', 27, 0, 1, 1, 1, 2],\n",
       " '2018451975': ['최건우', 25, 0, 1, 1, 1, 4],\n",
       " '2021238046': ['장준서', 24, 0, 1, 1, 1, 3],\n",
       " '2021180197': ['강건우', 25, 0, 1, 1, 1, 7],\n",
       " '2020704309': ['김지후', 23, 0, 1, 1, 1, 5],\n",
       " '2018039079': ['임하준', 24, 0, 1, 1, 1, 5],\n",
       " '2019154386': ['임도윤', 24, 0, 1, 1, 1, 3],\n",
       " '2022521050': ['이건우', 26, 0, 1, 1, 1, 4],\n",
       " '2022951004': ['윤도윤', 24, 0, 0, 1, 1, 6],\n",
       " '2022884130': ['조서준', 24, 0, 1, 1, 0, 7],\n",
       " '2022222534': ['최주원', 24, 0, 1, 1, 1, 4],\n",
       " '2022705777': ['장준서', 23, 0, 1, 1, 1, 4],\n",
       " '2019266916': ['이민준', 24, 0, 1, 1, 1, 4],\n",
       " '2020668519': ['최지훈', 25, 0, 1, 1, 1, 4],\n",
       " '2022369262': ['장하준', 24, 0, 1, 0, 1, 4],\n",
       " '2019020090': ['정준서', 27, 0, 1, 1, 1, 6],\n",
       " '2020988825': ['강서준', 25, 0, 1, 0, 0, 7],\n",
       " '2019039412': ['임주원', 24, 0, 1, 1, 1, 7],\n",
       " '2019024767': ['김하준', 23, 0, 1, 1, 1, 2],\n",
       " '2020905764': ['김주원', 23, 0, 1, 1, 1, 3]}"
      ]
     },
     "execution_count": 55,
     "metadata": {},
     "output_type": "execute_result"
    }
   ],
   "source": [
    "student_data"
   ]
  },
  {
   "cell_type": "code",
   "execution_count": 56,
   "id": "39f2c7de",
   "metadata": {},
   "outputs": [
    {
     "data": {
      "text/plain": [
       "[['2021657987', '21-71357927', '경민서', 1, 3, 0, 0, 6, 0]]"
      ]
     },
     "execution_count": 56,
     "metadata": {},
     "output_type": "execute_result"
    }
   ],
   "source": [
    "new_student_data = {'2021657987':['경민서', 24, 0, 1, 1, 1, 8]}\n",
    "new_military_data = {'21-71357927':['육군','병장','25사단','영상감시병','2022-09-15']}\n",
    "update_list = [['2021657987', 1, 8, 0, 0]]\n",
    "\n",
    "reserve = Reserve(s_list)\n",
    "reserve.init_create(student_data, military_data)\n",
    "a = reserve.create(new_student_data, new_military_data)\n",
    "a"
   ]
  },
  {
   "cell_type": "code",
   "execution_count": 57,
   "id": "264b5807",
   "metadata": {},
   "outputs": [
    {
     "data": {
      "text/plain": [
       "[['2021657987', '21-71357927', '경민서', 1, 3, 0, 0, 6, 0]]"
      ]
     },
     "execution_count": 57,
     "metadata": {},
     "output_type": "execute_result"
    }
   ],
   "source": [
    "reserve.retrieve('2021657987')"
   ]
  },
  {
   "cell_type": "code",
   "execution_count": 58,
   "id": "b1ef3bad",
   "metadata": {},
   "outputs": [
    {
     "data": {
      "text/plain": [
       "[['2021657987', '21-71357927', '경민서', 1, 3, 1, 8, 6, 0]]"
      ]
     },
     "execution_count": 58,
     "metadata": {},
     "output_type": "execute_result"
    }
   ],
   "source": [
    "reserve.update_after_train(update_list)\n",
    "reserve.retrieve('2021657987')"
   ]
  },
  {
   "cell_type": "code",
   "execution_count": 59,
   "id": "a7c464e7",
   "metadata": {},
   "outputs": [
    {
     "data": {
      "text/plain": [
       "[['2021657987', '21-71357927', '경민서', 0, 3, 1, 8, 6, 0]]"
      ]
     },
     "execution_count": 59,
     "metadata": {},
     "output_type": "execute_result"
    }
   ],
   "source": [
    "renew_stduent_data = {'2021657987':['경민서', 24, 0, 1, 0, 1, 8]}\n",
    "reserve.update_is_available(renew_stduent_data)\n",
    "reserve.retrieve('2021657987')"
   ]
  },
  {
   "cell_type": "code",
   "execution_count": 48,
   "id": "fcc7f6b1",
   "metadata": {},
   "outputs": [
    {
     "name": "stdout",
     "output_type": "stream",
     "text": [
      "[자동삭제 완료] 삭제된 예비군 데이터 17건\n",
      "[['2018039079', '19-75675132', '임하준', 1, 5, 0, 0, 6, 0], ['2018265293', '19-87182137', '강현우', 0, 5, 0, 0, 6, 0], ['2018359131', '19-87976763', '강현우', 1, 5, 0, 0, 6, 0], ['2018438911', '19-08451645', '임지후', 0, 5, 0, 0, 6, 0], ['2018448337', '19-84155259', '김현우', 1, 5, 0, 0, 6, 0], ['2018451975', '19-16721308', '최건우', 1, 5, 0, 0, 6, 0], ['2018500305', '19-15505461', '장지훈', 1, 5, 0, 0, 6, 0], ['2018574745', '19-78423629', '이지후', 1, 5, 0, 0, 6, 0], ['2018595286', '19-91806045', '강건우', 1, 5, 0, 0, 6, 0], ['2018599495', '19-54339766', '조건우', 1, 5, 0, 0, 6, 0], ['2018695099', '19-45529064', '조현우', 1, 5, 0, 0, 6, 0], ['2018710124', '19-72734014', '김민준', 0, 5, 0, 0, 6, 0], ['2018776863', '19-26208659', '강건우', 0, 5, 0, 0, 6, 0], ['2018890036', '19-42315773', '장하준', 1, 5, 0, 0, 6, 0], ['2018923873', '19-46933146', '최민준', 1, 5, 0, 0, 6, 0], ['2018989905', '19-34213720', '이현우', 1, 5, 0, 0, 6, 0], ['2021657987', '21-71357927', '경민서', 0, 3, 1, 8, 6, 0]]\n"
     ]
    }
   ],
   "source": [
    "deleted_data = reserve.auto_delete(student_data)\n",
    "print(deleted_data)"
   ]
  },
  {
   "cell_type": "code",
   "execution_count": 49,
   "id": "133de515",
   "metadata": {},
   "outputs": [
    {
     "ename": "UnboundLocalError",
     "evalue": "cannot access local variable 'data' where it is not associated with a value",
     "output_type": "error",
     "traceback": [
      "\u001b[31m---------------------------------------------------------------------------\u001b[39m",
      "\u001b[31mUnboundLocalError\u001b[39m                         Traceback (most recent call last)",
      "\u001b[36mCell\u001b[39m\u001b[36m \u001b[39m\u001b[32mIn[49]\u001b[39m\u001b[32m, line 1\u001b[39m\n\u001b[32m----> \u001b[39m\u001b[32m1\u001b[39m \u001b[43mreserve\u001b[49m\u001b[43m.\u001b[49m\u001b[43mretrieve\u001b[49m\u001b[43m(\u001b[49m\u001b[33;43m'\u001b[39;49m\u001b[33;43m2021657987\u001b[39;49m\u001b[33;43m'\u001b[39;49m\u001b[43m)\u001b[49m\n",
      "\u001b[36mCell\u001b[39m\u001b[36m \u001b[39m\u001b[32mIn[41]\u001b[39m\u001b[32m, line 132\u001b[39m, in \u001b[36mReserve.retrieve\u001b[39m\u001b[34m(self, value, is_filter)\u001b[39m\n\u001b[32m    130\u001b[39m     \u001b[38;5;28;01mif\u001b[39;00m result:\n\u001b[32m    131\u001b[39m         _, data = result\n\u001b[32m--> \u001b[39m\u001b[32m132\u001b[39m     found_data.append(\u001b[43mdata\u001b[49m)\n\u001b[32m    133\u001b[39m \u001b[38;5;28;01mreturn\u001b[39;00m found_data\n",
      "\u001b[31mUnboundLocalError\u001b[39m: cannot access local variable 'data' where it is not associated with a value"
     ]
    }
   ],
   "source": [
    "reserve.retrieve('2021657987')"
   ]
  },
  {
   "cell_type": "code",
   "execution_count": 60,
   "id": "f84e8921",
   "metadata": {},
   "outputs": [
    {
     "name": "stdout",
     "output_type": "stream",
     "text": [
      "[-] 학번 2021657987 예비군 정보 삭제 완료.\n"
     ]
    },
    {
     "data": {
      "text/plain": [
       "[['2021657987', '21-71357927', '경민서', 0, 3, 1, 8, 6, 0]]"
      ]
     },
     "execution_count": 60,
     "metadata": {},
     "output_type": "execute_result"
    }
   ],
   "source": [
    "student_ids = input(\"삭제할 학번을 입력하세요 (공백으로 구분): \").split()\n",
    "reserve.manual_delete(student_ids)"
   ]
  },
  {
   "cell_type": "code",
   "execution_count": 61,
   "id": "57c97e91",
   "metadata": {},
   "outputs": [
    {
     "ename": "UnboundLocalError",
     "evalue": "cannot access local variable 'data' where it is not associated with a value",
     "output_type": "error",
     "traceback": [
      "\u001b[31m---------------------------------------------------------------------------\u001b[39m",
      "\u001b[31mUnboundLocalError\u001b[39m                         Traceback (most recent call last)",
      "\u001b[36mCell\u001b[39m\u001b[36m \u001b[39m\u001b[32mIn[61]\u001b[39m\u001b[32m, line 1\u001b[39m\n\u001b[32m----> \u001b[39m\u001b[32m1\u001b[39m \u001b[43mreserve\u001b[49m\u001b[43m.\u001b[49m\u001b[43mretrieve\u001b[49m\u001b[43m(\u001b[49m\u001b[33;43m'\u001b[39;49m\u001b[33;43m2021657987\u001b[39;49m\u001b[33;43m'\u001b[39;49m\u001b[43m)\u001b[49m\n",
      "\u001b[36mCell\u001b[39m\u001b[36m \u001b[39m\u001b[32mIn[53]\u001b[39m\u001b[32m, line 132\u001b[39m, in \u001b[36mReserve.retrieve\u001b[39m\u001b[34m(self, value, is_filter)\u001b[39m\n\u001b[32m    130\u001b[39m     \u001b[38;5;28;01mif\u001b[39;00m result:\n\u001b[32m    131\u001b[39m         _, data = result\n\u001b[32m--> \u001b[39m\u001b[32m132\u001b[39m     found_data.append(\u001b[43mdata\u001b[49m)\n\u001b[32m    133\u001b[39m \u001b[38;5;28;01mreturn\u001b[39;00m found_data\n",
      "\u001b[31mUnboundLocalError\u001b[39m: cannot access local variable 'data' where it is not associated with a value"
     ]
    }
   ],
   "source": [
    "reserve.retrieve('2021657987')"
   ]
  }
 ],
 "metadata": {
  "kernelspec": {
   "display_name": "Python 3",
   "language": "python",
   "name": "python3"
  },
  "language_info": {
   "codemirror_mode": {
    "name": "ipython",
    "version": 3
   },
   "file_extension": ".py",
   "mimetype": "text/x-python",
   "name": "python",
   "nbconvert_exporter": "python",
   "pygments_lexer": "ipython3",
   "version": "3.13.1"
  }
 },
 "nbformat": 4,
 "nbformat_minor": 5
}
